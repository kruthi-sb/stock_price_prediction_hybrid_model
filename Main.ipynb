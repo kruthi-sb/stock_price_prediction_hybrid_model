{
 "cells": [
  {
   "cell_type": "markdown",
   "metadata": {},
   "source": [
    "# Stock Market Prediction: Hybrid Model\n",
    "\n",
    "**Author: Kruthi S B**    \n",
    "**Start Date:** *18/10/2023*               \n",
    "**End Date:** *in progress*"
   ]
  },
  {
   "cell_type": "markdown",
   "metadata": {},
   "source": [
    "# Description\n",
    "\n",
    "**Objective:** \n",
    "Create a hybrid model for stock price/performance prediction using numerical analysis of historical stock prices, and sentimental analysis of news headlines.\n",
    "\n",
    "**Stock to analyze and predict:**  SENSEX (S&P BSE SENSEX) - from 2017 to 2022 (5 years)\n",
    "\n",
    "**Data Source:**\n",
    "- Text: https://dataverse.harvard.edu/dataset.xhtml?persistentId=doi:10.7910/DVN/DPQMQH\n",
    "- Stock: https://www.bseindia.com/Indices/IndexArchiveData.html"
   ]
  },
  {
   "cell_type": "markdown",
   "metadata": {},
   "source": [
    "# Imports"
   ]
  },
  {
   "cell_type": "code",
   "execution_count": 116,
   "metadata": {},
   "outputs": [],
   "source": [
    "import pandas as pd, numpy as np"
   ]
  },
  {
   "cell_type": "code",
   "execution_count": 117,
   "metadata": {},
   "outputs": [],
   "source": [
    "news = pd.read_csv('Data/news.csv')\n",
    "stock = pd.read_csv('Data/stock.csv')"
   ]
  },
  {
   "cell_type": "markdown",
   "metadata": {},
   "source": [
    "# Info"
   ]
  },
  {
   "cell_type": "code",
   "execution_count": 118,
   "metadata": {},
   "outputs": [
    {
     "data": {
      "text/html": [
       "<div>\n",
       "<style scoped>\n",
       "    .dataframe tbody tr th:only-of-type {\n",
       "        vertical-align: middle;\n",
       "    }\n",
       "\n",
       "    .dataframe tbody tr th {\n",
       "        vertical-align: top;\n",
       "    }\n",
       "\n",
       "    .dataframe thead th {\n",
       "        text-align: right;\n",
       "    }\n",
       "</style>\n",
       "<table border=\"1\" class=\"dataframe\">\n",
       "  <thead>\n",
       "    <tr style=\"text-align: right;\">\n",
       "      <th></th>\n",
       "      <th>publish_date</th>\n",
       "      <th>headline_category</th>\n",
       "      <th>headline_text</th>\n",
       "    </tr>\n",
       "  </thead>\n",
       "  <tbody>\n",
       "    <tr>\n",
       "      <th>0</th>\n",
       "      <td>20010102</td>\n",
       "      <td>unknown</td>\n",
       "      <td>Status quo will not be disturbed at Ayodhya; s...</td>\n",
       "    </tr>\n",
       "    <tr>\n",
       "      <th>1</th>\n",
       "      <td>20010102</td>\n",
       "      <td>unknown</td>\n",
       "      <td>Fissures in Hurriyat over Pak visit</td>\n",
       "    </tr>\n",
       "    <tr>\n",
       "      <th>2</th>\n",
       "      <td>20010102</td>\n",
       "      <td>unknown</td>\n",
       "      <td>America's unwanted heading for India?</td>\n",
       "    </tr>\n",
       "    <tr>\n",
       "      <th>3</th>\n",
       "      <td>20010102</td>\n",
       "      <td>unknown</td>\n",
       "      <td>For bigwigs; it is destination Goa</td>\n",
       "    </tr>\n",
       "    <tr>\n",
       "      <th>4</th>\n",
       "      <td>20010102</td>\n",
       "      <td>unknown</td>\n",
       "      <td>Extra buses to clear tourist traffic</td>\n",
       "    </tr>\n",
       "  </tbody>\n",
       "</table>\n",
       "</div>"
      ],
      "text/plain": [
       "   publish_date headline_category  \\\n",
       "0      20010102           unknown   \n",
       "1      20010102           unknown   \n",
       "2      20010102           unknown   \n",
       "3      20010102           unknown   \n",
       "4      20010102           unknown   \n",
       "\n",
       "                                       headline_text  \n",
       "0  Status quo will not be disturbed at Ayodhya; s...  \n",
       "1                Fissures in Hurriyat over Pak visit  \n",
       "2              America's unwanted heading for India?  \n",
       "3                 For bigwigs; it is destination Goa  \n",
       "4               Extra buses to clear tourist traffic  "
      ]
     },
     "execution_count": 118,
     "metadata": {},
     "output_type": "execute_result"
    }
   ],
   "source": [
    "news.head()"
   ]
  },
  {
   "cell_type": "code",
   "execution_count": 119,
   "metadata": {},
   "outputs": [
    {
     "name": "stdout",
     "output_type": "stream",
     "text": [
      "<class 'pandas.core.frame.DataFrame'>\n",
      "RangeIndex: 3650970 entries, 0 to 3650969\n",
      "Data columns (total 3 columns):\n",
      " #   Column             Dtype \n",
      "---  ------             ----- \n",
      " 0   publish_date       int64 \n",
      " 1   headline_category  object\n",
      " 2   headline_text      object\n",
      "dtypes: int64(1), object(2)\n",
      "memory usage: 83.6+ MB\n"
     ]
    }
   ],
   "source": [
    "news.info()"
   ]
  },
  {
   "cell_type": "code",
   "execution_count": 120,
   "metadata": {},
   "outputs": [
    {
     "data": {
      "text/html": [
       "<div>\n",
       "<style scoped>\n",
       "    .dataframe tbody tr th:only-of-type {\n",
       "        vertical-align: middle;\n",
       "    }\n",
       "\n",
       "    .dataframe tbody tr th {\n",
       "        vertical-align: top;\n",
       "    }\n",
       "\n",
       "    .dataframe thead th {\n",
       "        text-align: right;\n",
       "    }\n",
       "</style>\n",
       "<table border=\"1\" class=\"dataframe\">\n",
       "  <thead>\n",
       "    <tr style=\"text-align: right;\">\n",
       "      <th></th>\n",
       "      <th>Date</th>\n",
       "      <th>Open</th>\n",
       "      <th>High</th>\n",
       "      <th>Low</th>\n",
       "      <th>Close</th>\n",
       "      <th>Unnamed: 5</th>\n",
       "    </tr>\n",
       "  </thead>\n",
       "  <tbody>\n",
       "    <tr>\n",
       "      <th>0</th>\n",
       "      <td>2-January-2017</td>\n",
       "      <td>26711.15</td>\n",
       "      <td>26720.98</td>\n",
       "      <td>26447.06</td>\n",
       "      <td>26595.45</td>\n",
       "      <td>NaN</td>\n",
       "    </tr>\n",
       "    <tr>\n",
       "      <th>1</th>\n",
       "      <td>3-January-2017</td>\n",
       "      <td>26616.92</td>\n",
       "      <td>26724.40</td>\n",
       "      <td>26488.37</td>\n",
       "      <td>26643.24</td>\n",
       "      <td>NaN</td>\n",
       "    </tr>\n",
       "    <tr>\n",
       "      <th>2</th>\n",
       "      <td>4-January-2017</td>\n",
       "      <td>26677.22</td>\n",
       "      <td>26723.37</td>\n",
       "      <td>26606.06</td>\n",
       "      <td>26633.13</td>\n",
       "      <td>NaN</td>\n",
       "    </tr>\n",
       "    <tr>\n",
       "      <th>3</th>\n",
       "      <td>5-January-2017</td>\n",
       "      <td>26738.42</td>\n",
       "      <td>26917.21</td>\n",
       "      <td>26738.42</td>\n",
       "      <td>26878.24</td>\n",
       "      <td>NaN</td>\n",
       "    </tr>\n",
       "    <tr>\n",
       "      <th>4</th>\n",
       "      <td>6-January-2017</td>\n",
       "      <td>26929.69</td>\n",
       "      <td>27009.61</td>\n",
       "      <td>26733.33</td>\n",
       "      <td>26759.23</td>\n",
       "      <td>NaN</td>\n",
       "    </tr>\n",
       "  </tbody>\n",
       "</table>\n",
       "</div>"
      ],
      "text/plain": [
       "             Date      Open      High       Low     Close  Unnamed: 5\n",
       "0  2-January-2017  26711.15  26720.98  26447.06  26595.45         NaN\n",
       "1  3-January-2017  26616.92  26724.40  26488.37  26643.24         NaN\n",
       "2  4-January-2017  26677.22  26723.37  26606.06  26633.13         NaN\n",
       "3  5-January-2017  26738.42  26917.21  26738.42  26878.24         NaN\n",
       "4  6-January-2017  26929.69  27009.61  26733.33  26759.23         NaN"
      ]
     },
     "execution_count": 120,
     "metadata": {},
     "output_type": "execute_result"
    }
   ],
   "source": [
    "stock.head()"
   ]
  },
  {
   "cell_type": "code",
   "execution_count": 121,
   "metadata": {},
   "outputs": [
    {
     "name": "stdout",
     "output_type": "stream",
     "text": [
      "<class 'pandas.core.frame.DataFrame'>\n",
      "RangeIndex: 1239 entries, 0 to 1238\n",
      "Data columns (total 6 columns):\n",
      " #   Column      Non-Null Count  Dtype  \n",
      "---  ------      --------------  -----  \n",
      " 0   Date        1239 non-null   object \n",
      " 1   Open        1239 non-null   float64\n",
      " 2   High        1239 non-null   float64\n",
      " 3   Low         1239 non-null   float64\n",
      " 4   Close       1239 non-null   float64\n",
      " 5   Unnamed: 5  0 non-null      float64\n",
      "dtypes: float64(5), object(1)\n",
      "memory usage: 58.2+ KB\n"
     ]
    }
   ],
   "source": [
    "stock.info()"
   ]
  },
  {
   "cell_type": "markdown",
   "metadata": {},
   "source": [
    "Notice the following:\n",
    "\n",
    "- the data of stocks is taken from 2017 to 2021 (5 years)\n",
    "- whereas the news data is from 2001 to 2022 (if you see the data source website)\n",
    "- we'll extract the news data from 2017 to 2021 (5 years) to match the stock data."
   ]
  },
  {
   "cell_type": "code",
   "execution_count": 122,
   "metadata": {},
   "outputs": [
    {
     "data": {
      "text/html": [
       "<div>\n",
       "<style scoped>\n",
       "    .dataframe tbody tr th:only-of-type {\n",
       "        vertical-align: middle;\n",
       "    }\n",
       "\n",
       "    .dataframe tbody tr th {\n",
       "        vertical-align: top;\n",
       "    }\n",
       "\n",
       "    .dataframe thead th {\n",
       "        text-align: right;\n",
       "    }\n",
       "</style>\n",
       "<table border=\"1\" class=\"dataframe\">\n",
       "  <thead>\n",
       "    <tr style=\"text-align: right;\">\n",
       "      <th></th>\n",
       "      <th>publish_date</th>\n",
       "      <th>headline_category</th>\n",
       "      <th>headline_text</th>\n",
       "    </tr>\n",
       "  </thead>\n",
       "  <tbody>\n",
       "    <tr>\n",
       "      <th>2550452</th>\n",
       "      <td>2017-01-01</td>\n",
       "      <td>life-style.beauty</td>\n",
       "      <td>Look-ing ahead</td>\n",
       "    </tr>\n",
       "    <tr>\n",
       "      <th>2550453</th>\n",
       "      <td>2017-01-01</td>\n",
       "      <td>life-style.health-fitness.weight-loss</td>\n",
       "      <td>Genie in a diet</td>\n",
       "    </tr>\n",
       "    <tr>\n",
       "      <th>2550454</th>\n",
       "      <td>2017-01-01</td>\n",
       "      <td>life-style.health-fitness.de-stress</td>\n",
       "      <td>17 ideas for 2017</td>\n",
       "    </tr>\n",
       "    <tr>\n",
       "      <th>2550455</th>\n",
       "      <td>2017-01-01</td>\n",
       "      <td>life-style.health-fitness.de-stress</td>\n",
       "      <td>I started living my life to my highest potenti...</td>\n",
       "    </tr>\n",
       "    <tr>\n",
       "      <th>2550456</th>\n",
       "      <td>2017-01-01</td>\n",
       "      <td>life-style.home-garden</td>\n",
       "      <td>Hygge up your home</td>\n",
       "    </tr>\n",
       "  </tbody>\n",
       "</table>\n",
       "</div>"
      ],
      "text/plain": [
       "        publish_date                      headline_category  \\\n",
       "2550452   2017-01-01                      life-style.beauty   \n",
       "2550453   2017-01-01  life-style.health-fitness.weight-loss   \n",
       "2550454   2017-01-01    life-style.health-fitness.de-stress   \n",
       "2550455   2017-01-01    life-style.health-fitness.de-stress   \n",
       "2550456   2017-01-01                 life-style.home-garden   \n",
       "\n",
       "                                             headline_text  \n",
       "2550452                                     Look-ing ahead  \n",
       "2550453                                    Genie in a diet  \n",
       "2550454                                  17 ideas for 2017  \n",
       "2550455  I started living my life to my highest potenti...  \n",
       "2550456                                 Hygge up your home  "
      ]
     },
     "execution_count": 122,
     "metadata": {},
     "output_type": "execute_result"
    }
   ],
   "source": [
    "# convert date to standard format\n",
    "news[\"publish_date\"] = pd.to_datetime(news[\"publish_date\"], format = \"%Y%m%d\")\n",
    "\n",
    "# select rows between specific dates\n",
    "start_date = '2017-01-01'\n",
    "end_date = '2022-01-01'\n",
    "news = news.loc[(news[\"publish_date\"] >= start_date) & (news[\"publish_date\"] <= end_date)]\n",
    "\n",
    "news.head(5)"
   ]
  },
  {
   "cell_type": "code",
   "execution_count": 123,
   "metadata": {},
   "outputs": [
    {
     "name": "stdout",
     "output_type": "stream",
     "text": [
      "Stock:  (1239, 6)\n",
      "News:  (1056117, 3)\n"
     ]
    }
   ],
   "source": [
    "print(\"Stock: \", stock.shape)\n",
    "print(\"News: \", news.shape)"
   ]
  },
  {
   "cell_type": "markdown",
   "metadata": {},
   "source": [
    "# Stocks"
   ]
  },
  {
   "cell_type": "code",
   "execution_count": 124,
   "metadata": {},
   "outputs": [
    {
     "data": {
      "text/html": [
       "<div>\n",
       "<style scoped>\n",
       "    .dataframe tbody tr th:only-of-type {\n",
       "        vertical-align: middle;\n",
       "    }\n",
       "\n",
       "    .dataframe tbody tr th {\n",
       "        vertical-align: top;\n",
       "    }\n",
       "\n",
       "    .dataframe thead th {\n",
       "        text-align: right;\n",
       "    }\n",
       "</style>\n",
       "<table border=\"1\" class=\"dataframe\">\n",
       "  <thead>\n",
       "    <tr style=\"text-align: right;\">\n",
       "      <th></th>\n",
       "      <th>Date</th>\n",
       "      <th>Open</th>\n",
       "      <th>High</th>\n",
       "      <th>Low</th>\n",
       "      <th>Close</th>\n",
       "      <th>Unnamed: 5</th>\n",
       "    </tr>\n",
       "  </thead>\n",
       "  <tbody>\n",
       "    <tr>\n",
       "      <th>0</th>\n",
       "      <td>2-January-2017</td>\n",
       "      <td>26711.15</td>\n",
       "      <td>26720.98</td>\n",
       "      <td>26447.06</td>\n",
       "      <td>26595.45</td>\n",
       "      <td>NaN</td>\n",
       "    </tr>\n",
       "    <tr>\n",
       "      <th>1</th>\n",
       "      <td>3-January-2017</td>\n",
       "      <td>26616.92</td>\n",
       "      <td>26724.40</td>\n",
       "      <td>26488.37</td>\n",
       "      <td>26643.24</td>\n",
       "      <td>NaN</td>\n",
       "    </tr>\n",
       "    <tr>\n",
       "      <th>2</th>\n",
       "      <td>4-January-2017</td>\n",
       "      <td>26677.22</td>\n",
       "      <td>26723.37</td>\n",
       "      <td>26606.06</td>\n",
       "      <td>26633.13</td>\n",
       "      <td>NaN</td>\n",
       "    </tr>\n",
       "    <tr>\n",
       "      <th>3</th>\n",
       "      <td>5-January-2017</td>\n",
       "      <td>26738.42</td>\n",
       "      <td>26917.21</td>\n",
       "      <td>26738.42</td>\n",
       "      <td>26878.24</td>\n",
       "      <td>NaN</td>\n",
       "    </tr>\n",
       "    <tr>\n",
       "      <th>4</th>\n",
       "      <td>6-January-2017</td>\n",
       "      <td>26929.69</td>\n",
       "      <td>27009.61</td>\n",
       "      <td>26733.33</td>\n",
       "      <td>26759.23</td>\n",
       "      <td>NaN</td>\n",
       "    </tr>\n",
       "  </tbody>\n",
       "</table>\n",
       "</div>"
      ],
      "text/plain": [
       "             Date      Open      High       Low     Close  Unnamed: 5\n",
       "0  2-January-2017  26711.15  26720.98  26447.06  26595.45         NaN\n",
       "1  3-January-2017  26616.92  26724.40  26488.37  26643.24         NaN\n",
       "2  4-January-2017  26677.22  26723.37  26606.06  26633.13         NaN\n",
       "3  5-January-2017  26738.42  26917.21  26738.42  26878.24         NaN\n",
       "4  6-January-2017  26929.69  27009.61  26733.33  26759.23         NaN"
      ]
     },
     "execution_count": 124,
     "metadata": {},
     "output_type": "execute_result"
    }
   ],
   "source": [
    "stock.head()"
   ]
  },
  {
   "cell_type": "markdown",
   "metadata": {},
   "source": [
    "## Data Preprocessing"
   ]
  },
  {
   "cell_type": "code",
   "execution_count": 125,
   "metadata": {},
   "outputs": [],
   "source": [
    "# delete the null column\n",
    "stock.drop(\"Unnamed: 5\", axis=1, inplace=True)"
   ]
  },
  {
   "cell_type": "code",
   "execution_count": 126,
   "metadata": {},
   "outputs": [
    {
     "data": {
      "text/html": [
       "<div>\n",
       "<style scoped>\n",
       "    .dataframe tbody tr th:only-of-type {\n",
       "        vertical-align: middle;\n",
       "    }\n",
       "\n",
       "    .dataframe tbody tr th {\n",
       "        vertical-align: top;\n",
       "    }\n",
       "\n",
       "    .dataframe thead th {\n",
       "        text-align: right;\n",
       "    }\n",
       "</style>\n",
       "<table border=\"1\" class=\"dataframe\">\n",
       "  <thead>\n",
       "    <tr style=\"text-align: right;\">\n",
       "      <th></th>\n",
       "      <th>Date</th>\n",
       "      <th>Open</th>\n",
       "      <th>High</th>\n",
       "      <th>Low</th>\n",
       "      <th>Close</th>\n",
       "    </tr>\n",
       "  </thead>\n",
       "  <tbody>\n",
       "    <tr>\n",
       "      <th>0</th>\n",
       "      <td>2-January-2017</td>\n",
       "      <td>26711.15</td>\n",
       "      <td>26720.98</td>\n",
       "      <td>26447.06</td>\n",
       "      <td>26595.45</td>\n",
       "    </tr>\n",
       "    <tr>\n",
       "      <th>1</th>\n",
       "      <td>3-January-2017</td>\n",
       "      <td>26616.92</td>\n",
       "      <td>26724.40</td>\n",
       "      <td>26488.37</td>\n",
       "      <td>26643.24</td>\n",
       "    </tr>\n",
       "    <tr>\n",
       "      <th>2</th>\n",
       "      <td>4-January-2017</td>\n",
       "      <td>26677.22</td>\n",
       "      <td>26723.37</td>\n",
       "      <td>26606.06</td>\n",
       "      <td>26633.13</td>\n",
       "    </tr>\n",
       "    <tr>\n",
       "      <th>3</th>\n",
       "      <td>5-January-2017</td>\n",
       "      <td>26738.42</td>\n",
       "      <td>26917.21</td>\n",
       "      <td>26738.42</td>\n",
       "      <td>26878.24</td>\n",
       "    </tr>\n",
       "    <tr>\n",
       "      <th>4</th>\n",
       "      <td>6-January-2017</td>\n",
       "      <td>26929.69</td>\n",
       "      <td>27009.61</td>\n",
       "      <td>26733.33</td>\n",
       "      <td>26759.23</td>\n",
       "    </tr>\n",
       "  </tbody>\n",
       "</table>\n",
       "</div>"
      ],
      "text/plain": [
       "             Date      Open      High       Low     Close\n",
       "0  2-January-2017  26711.15  26720.98  26447.06  26595.45\n",
       "1  3-January-2017  26616.92  26724.40  26488.37  26643.24\n",
       "2  4-January-2017  26677.22  26723.37  26606.06  26633.13\n",
       "3  5-January-2017  26738.42  26917.21  26738.42  26878.24\n",
       "4  6-January-2017  26929.69  27009.61  26733.33  26759.23"
      ]
     },
     "execution_count": 126,
     "metadata": {},
     "output_type": "execute_result"
    }
   ],
   "source": [
    "stock.head()"
   ]
  },
  {
   "cell_type": "code",
   "execution_count": 127,
   "metadata": {},
   "outputs": [
    {
     "data": {
      "text/html": [
       "<div>\n",
       "<style scoped>\n",
       "    .dataframe tbody tr th:only-of-type {\n",
       "        vertical-align: middle;\n",
       "    }\n",
       "\n",
       "    .dataframe tbody tr th {\n",
       "        vertical-align: top;\n",
       "    }\n",
       "\n",
       "    .dataframe thead th {\n",
       "        text-align: right;\n",
       "    }\n",
       "</style>\n",
       "<table border=\"1\" class=\"dataframe\">\n",
       "  <thead>\n",
       "    <tr style=\"text-align: right;\">\n",
       "      <th></th>\n",
       "      <th>Date</th>\n",
       "      <th>Open</th>\n",
       "      <th>High</th>\n",
       "      <th>Low</th>\n",
       "      <th>Close</th>\n",
       "    </tr>\n",
       "  </thead>\n",
       "  <tbody>\n",
       "    <tr>\n",
       "      <th>1234</th>\n",
       "      <td>27-December-2021</td>\n",
       "      <td>56948.33</td>\n",
       "      <td>57512.01</td>\n",
       "      <td>56543.08</td>\n",
       "      <td>57420.24</td>\n",
       "    </tr>\n",
       "    <tr>\n",
       "      <th>1235</th>\n",
       "      <td>28-December-2021</td>\n",
       "      <td>57751.21</td>\n",
       "      <td>57952.48</td>\n",
       "      <td>57650.29</td>\n",
       "      <td>57897.48</td>\n",
       "    </tr>\n",
       "    <tr>\n",
       "      <th>1236</th>\n",
       "      <td>29-December-2021</td>\n",
       "      <td>57892.31</td>\n",
       "      <td>58097.07</td>\n",
       "      <td>57684.58</td>\n",
       "      <td>57806.49</td>\n",
       "    </tr>\n",
       "    <tr>\n",
       "      <th>1237</th>\n",
       "      <td>30-December-2021</td>\n",
       "      <td>57755.40</td>\n",
       "      <td>58010.03</td>\n",
       "      <td>57578.99</td>\n",
       "      <td>57794.32</td>\n",
       "    </tr>\n",
       "    <tr>\n",
       "      <th>1238</th>\n",
       "      <td>31-December-2021</td>\n",
       "      <td>57849.76</td>\n",
       "      <td>58409.30</td>\n",
       "      <td>57846.52</td>\n",
       "      <td>58253.82</td>\n",
       "    </tr>\n",
       "  </tbody>\n",
       "</table>\n",
       "</div>"
      ],
      "text/plain": [
       "                  Date      Open      High       Low     Close\n",
       "1234  27-December-2021  56948.33  57512.01  56543.08  57420.24\n",
       "1235  28-December-2021  57751.21  57952.48  57650.29  57897.48\n",
       "1236  29-December-2021  57892.31  58097.07  57684.58  57806.49\n",
       "1237  30-December-2021  57755.40  58010.03  57578.99  57794.32\n",
       "1238  31-December-2021  57849.76  58409.30  57846.52  58253.82"
      ]
     },
     "execution_count": 127,
     "metadata": {},
     "output_type": "execute_result"
    }
   ],
   "source": [
    "stock.tail()"
   ]
  },
  {
   "cell_type": "code",
   "execution_count": 128,
   "metadata": {},
   "outputs": [
    {
     "data": {
      "text/html": [
       "<div>\n",
       "<style scoped>\n",
       "    .dataframe tbody tr th:only-of-type {\n",
       "        vertical-align: middle;\n",
       "    }\n",
       "\n",
       "    .dataframe tbody tr th {\n",
       "        vertical-align: top;\n",
       "    }\n",
       "\n",
       "    .dataframe thead th {\n",
       "        text-align: right;\n",
       "    }\n",
       "</style>\n",
       "<table border=\"1\" class=\"dataframe\">\n",
       "  <thead>\n",
       "    <tr style=\"text-align: right;\">\n",
       "      <th></th>\n",
       "      <th>Date</th>\n",
       "      <th>Open</th>\n",
       "      <th>High</th>\n",
       "      <th>Low</th>\n",
       "      <th>Close</th>\n",
       "    </tr>\n",
       "  </thead>\n",
       "  <tbody>\n",
       "    <tr>\n",
       "      <th>1234</th>\n",
       "      <td>2021-12-27</td>\n",
       "      <td>56948.33</td>\n",
       "      <td>57512.01</td>\n",
       "      <td>56543.08</td>\n",
       "      <td>57420.24</td>\n",
       "    </tr>\n",
       "    <tr>\n",
       "      <th>1235</th>\n",
       "      <td>2021-12-28</td>\n",
       "      <td>57751.21</td>\n",
       "      <td>57952.48</td>\n",
       "      <td>57650.29</td>\n",
       "      <td>57897.48</td>\n",
       "    </tr>\n",
       "    <tr>\n",
       "      <th>1236</th>\n",
       "      <td>2021-12-29</td>\n",
       "      <td>57892.31</td>\n",
       "      <td>58097.07</td>\n",
       "      <td>57684.58</td>\n",
       "      <td>57806.49</td>\n",
       "    </tr>\n",
       "    <tr>\n",
       "      <th>1237</th>\n",
       "      <td>2021-12-30</td>\n",
       "      <td>57755.40</td>\n",
       "      <td>58010.03</td>\n",
       "      <td>57578.99</td>\n",
       "      <td>57794.32</td>\n",
       "    </tr>\n",
       "    <tr>\n",
       "      <th>1238</th>\n",
       "      <td>2021-12-31</td>\n",
       "      <td>57849.76</td>\n",
       "      <td>58409.30</td>\n",
       "      <td>57846.52</td>\n",
       "      <td>58253.82</td>\n",
       "    </tr>\n",
       "  </tbody>\n",
       "</table>\n",
       "</div>"
      ],
      "text/plain": [
       "           Date      Open      High       Low     Close\n",
       "1234 2021-12-27  56948.33  57512.01  56543.08  57420.24\n",
       "1235 2021-12-28  57751.21  57952.48  57650.29  57897.48\n",
       "1236 2021-12-29  57892.31  58097.07  57684.58  57806.49\n",
       "1237 2021-12-30  57755.40  58010.03  57578.99  57794.32\n",
       "1238 2021-12-31  57849.76  58409.30  57846.52  58253.82"
      ]
     },
     "execution_count": 128,
     "metadata": {},
     "output_type": "execute_result"
    }
   ],
   "source": [
    "# convert date to standard format\n",
    "from datetime import datetime\n",
    "\n",
    "# apply the lambda function to all items in the column\n",
    "stock['Date'] = stock['Date'].apply(lambda x: datetime.strptime(x, '%d-%B-%Y'))\n",
    "\n",
    "stock.tail()"
   ]
  },
  {
   "cell_type": "code",
   "execution_count": 131,
   "metadata": {},
   "outputs": [
    {
     "data": {
      "text/plain": [
       "Date     0\n",
       "Open     0\n",
       "High     0\n",
       "Low      0\n",
       "Close    0\n",
       "dtype: int64"
      ]
     },
     "execution_count": 131,
     "metadata": {},
     "output_type": "execute_result"
    }
   ],
   "source": [
    "# check for null values\n",
    "stock.isnull().sum()"
   ]
  },
  {
   "cell_type": "code",
   "execution_count": null,
   "metadata": {},
   "outputs": [],
   "source": []
  }
 ],
 "metadata": {
  "kernelspec": {
   "display_name": "Python 3",
   "language": "python",
   "name": "python3"
  },
  "language_info": {
   "codemirror_mode": {
    "name": "ipython",
    "version": 3
   },
   "file_extension": ".py",
   "mimetype": "text/x-python",
   "name": "python",
   "nbconvert_exporter": "python",
   "pygments_lexer": "ipython3",
   "version": "3.11.1"
  }
 },
 "nbformat": 4,
 "nbformat_minor": 2
}
